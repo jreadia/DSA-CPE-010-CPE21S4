{
  "nbformat": 4,
  "nbformat_minor": 0,
  "metadata": {
    "colab": {
      "provenance": [],
      "toc_visible": true,
      "authorship_tag": "ABX9TyPZ3Xapn2wogC7DTjmg6U8O",
      "include_colab_link": true
    },
    "kernelspec": {
      "name": "python3",
      "display_name": "Python 3"
    },
    "language_info": {
      "name": "python"
    }
  },
  "cells": [
    {
      "cell_type": "markdown",
      "metadata": {
        "id": "view-in-github",
        "colab_type": "text"
      },
      "source": [
        "<a href=\"https://colab.research.google.com/github/jreadia/DSA-CPE-010-CPE21S4/blob/main/Adia_CPE_010_Exercise_No_3.ipynb\" target=\"_parent\"><img src=\"https://colab.research.google.com/assets/colab-badge.svg\" alt=\"Open In Colab\"/></a>"
      ]
    },
    {
      "cell_type": "markdown",
      "source": [
        "# DEMO 1 - AREA OF A CIRCLE"
      ],
      "metadata": {
        "id": "3Sf2V5Deu-hP"
      }
    },
    {
      "cell_type": "markdown",
      "source": [
        "Algorithm to get the area of a circle if radius or diameter is given:\n",
        "* Area = pi*r^2\n",
        "* Area = pi*(d/2)^2"
      ],
      "metadata": {
        "id": "TRTkNJWrwX9y"
      }
    },
    {
      "cell_type": "code",
      "source": [
        "# ----- IMPORTING MATH MODULE ----- #\n",
        "import math"
      ],
      "metadata": {
        "id": "zz7QR009vAFU"
      },
      "execution_count": null,
      "outputs": []
    },
    {
      "cell_type": "code",
      "source": [
        "# ----- AREA OF A CIRCLE WITH GIVEN RADIUS ----- #\n",
        "\n",
        "# Creating a Function with Radius as a parameter\n",
        "def Area_of_Circle_Radius(radius):\n",
        "  return math.pi * radius**2\n",
        "\n",
        "# Example usage with user input\n",
        "radius = float(input(\"Enter the radius of the circle: \"))\n",
        "area = Area_of_Circle_Radius(radius)\n",
        "\n",
        "# Display output with 2 decimal places\n",
        "print(\"The area of the circle is:\", round(area,2))"
      ],
      "metadata": {
        "colab": {
          "base_uri": "https://localhost:8080/"
        },
        "id": "D2k1YylfvOc7",
        "outputId": "fdf2be73-4c16-4d92-d290-674296af2714"
      },
      "execution_count": null,
      "outputs": [
        {
          "output_type": "stream",
          "name": "stdout",
          "text": [
            "Enter the radius of the circle: 5\n",
            "The area of the circle is: 78.54\n"
          ]
        }
      ]
    },
    {
      "cell_type": "code",
      "source": [
        "# ----- AREA OF A CIRCLE WITH GIVEN DIAMETER ----- #\n",
        "\n",
        "# Creating a Function with Diameter as a parameter\n",
        "def Area_of_Circle_Diameter(diameter):\n",
        "  return math.pi * (diameter/2)**2\n",
        "\n",
        "# Example usage with user input\n",
        "diameter = float(input(\"Enter the diameter of the circle: \"))\n",
        "area = Area_of_Circle_Diameter(diameter)\n",
        "\n",
        "# Display output with 2 decimal places\n",
        "print(\"The area of the circle is:\", round(area,2))"
      ],
      "metadata": {
        "colab": {
          "base_uri": "https://localhost:8080/"
        },
        "id": "4QSklXTZvil5",
        "outputId": "8eb40c03-4075-4274-8c39-ed6403ffa53e"
      },
      "execution_count": null,
      "outputs": [
        {
          "output_type": "stream",
          "name": "stdout",
          "text": [
            "Enter the diameter of the circle: 10\n",
            "The area of the circle is: 78.54\n"
          ]
        }
      ]
    },
    {
      "cell_type": "markdown",
      "source": [
        "# DEMO 2 - ACCESSING ELEMENTS IN THE ARRAY"
      ],
      "metadata": {
        "id": "LlkT4tgyxEKa"
      }
    },
    {
      "cell_type": "code",
      "source": [
        "# Accessing the Elements in the Array\n",
        "animals = [\"cat\", \"dog\", \"fish\"]\n",
        "x = animals[0]\n",
        "print(x)"
      ],
      "metadata": {
        "colab": {
          "base_uri": "https://localhost:8080/"
        },
        "id": "sxL3ao2gxMcQ",
        "outputId": "1a7181f7-3a1d-4384-e9a0-18bd19b0c046"
      },
      "execution_count": null,
      "outputs": [
        {
          "output_type": "stream",
          "name": "stdout",
          "text": [
            "cat\n"
          ]
        }
      ]
    },
    {
      "cell_type": "code",
      "source": [
        "# Modifying Elements in the Array\n",
        "animals = [\"cat\", \"dog\", \"fish\"]\n",
        "animals[0] = \"monkey\"\n",
        "print(animals)"
      ],
      "metadata": {
        "colab": {
          "base_uri": "https://localhost:8080/"
        },
        "id": "AaHQ_-HvxtfB",
        "outputId": "259fe4af-f2d2-43bd-bc2a-a12bf4e24717"
      },
      "execution_count": null,
      "outputs": [
        {
          "output_type": "stream",
          "name": "stdout",
          "text": [
            "['monkey', 'dog', 'fish']\n"
          ]
        }
      ]
    },
    {
      "cell_type": "code",
      "source": [
        "# Length of an Array\n",
        "animals = [\"monkey\", \"dog\", \"fish\"]\n",
        "x = len(animals)\n",
        "print(x)"
      ],
      "metadata": {
        "colab": {
          "base_uri": "https://localhost:8080/"
        },
        "id": "wzZXY_ARx_p9",
        "outputId": "dfd9f17f-2a65-40d3-c38d-bcfd2f38e695"
      },
      "execution_count": null,
      "outputs": [
        {
          "output_type": "stream",
          "name": "stdout",
          "text": [
            "3\n"
          ]
        }
      ]
    },
    {
      "cell_type": "code",
      "source": [
        "# Looping Array Elements\n",
        "animals = [\"monkey\", \"dog\", \"fish\"]\n",
        "for x in animals:\n",
        "  print(x)"
      ],
      "metadata": {
        "colab": {
          "base_uri": "https://localhost:8080/"
        },
        "id": "ALNEKT9DyXUj",
        "outputId": "f6f53374-1eba-44c3-bfbf-61e5027043d9"
      },
      "execution_count": null,
      "outputs": [
        {
          "output_type": "stream",
          "name": "stdout",
          "text": [
            "monkey\n",
            "dog\n",
            "fish\n"
          ]
        }
      ]
    },
    {
      "cell_type": "code",
      "source": [
        "# Adding item in animals list\n",
        "animals = [\"monkey\", \"dog\", \"fish\"]\n",
        "animals.append(\"bird\")\n",
        "print(animals)"
      ],
      "metadata": {
        "colab": {
          "base_uri": "https://localhost:8080/"
        },
        "id": "q9RNzCrHy1S4",
        "outputId": "9cdc45ed-4d15-45ff-d5b2-eadbb0c053b1"
      },
      "execution_count": null,
      "outputs": [
        {
          "output_type": "stream",
          "name": "stdout",
          "text": [
            "['monkey', 'dog', 'fish', 'bird']\n"
          ]
        }
      ]
    },
    {
      "cell_type": "code",
      "source": [
        "# Pop an item in animals list\n",
        "animals = [\"monkey\", \"dog\", \"fish\", \"bird\"]\n",
        "animals.pop(1)\n",
        "print(animals)"
      ],
      "metadata": {
        "colab": {
          "base_uri": "https://localhost:8080/"
        },
        "id": "lRosTYTvzVXF",
        "outputId": "239c440e-673e-4ec9-b3f4-e1dd37c56f88"
      },
      "execution_count": null,
      "outputs": [
        {
          "output_type": "stream",
          "name": "stdout",
          "text": [
            "['monkey', 'fish', 'bird']\n"
          ]
        }
      ]
    },
    {
      "cell_type": "code",
      "source": [
        "# Reversing the items in the list using reverse()\n",
        "animals = [\"monkey\", \"dog\", \"fish\", \"bird\"]\n",
        "animals.reverse()\n",
        "print(animals)"
      ],
      "metadata": {
        "colab": {
          "base_uri": "https://localhost:8080/"
        },
        "id": "A8QqcxsHzqee",
        "outputId": "a653e24c-7e49-48ca-dc59-7c95dcd2e9ca"
      },
      "execution_count": null,
      "outputs": [
        {
          "output_type": "stream",
          "name": "stdout",
          "text": [
            "['bird', 'fish', 'dog', 'monkey']\n"
          ]
        }
      ]
    },
    {
      "cell_type": "code",
      "source": [
        "# Inserting an item in a specified position using insert()\n",
        "animals = [\"monkey\", \"dog\", \"fish\", \"bird\"]\n",
        "animals.insert(3, \"cow\")\n",
        "print(animals)"
      ],
      "metadata": {
        "colab": {
          "base_uri": "https://localhost:8080/"
        },
        "id": "j2VskxCj0RLE",
        "outputId": "6a39a21c-293b-4614-ff40-1a95debc2c2a"
      },
      "execution_count": null,
      "outputs": [
        {
          "output_type": "stream",
          "name": "stdout",
          "text": [
            "['monkey', 'dog', 'fish', 'cow', 'bird']\n"
          ]
        }
      ]
    },
    {
      "cell_type": "code",
      "source": [
        "# Removing an item in the animals list using remove()\n",
        "animals = [\"monkey\", \"dog\", \"fish\", \"bird\"]\n",
        "animals.remove(\"dog\")\n",
        "print(animals)"
      ],
      "metadata": {
        "colab": {
          "base_uri": "https://localhost:8080/"
        },
        "id": "VwfMv1z50_2W",
        "outputId": "cc3f7d8f-7038-4724-8177-fcf2f8e62bf9"
      },
      "execution_count": null,
      "outputs": [
        {
          "output_type": "stream",
          "name": "stdout",
          "text": [
            "['monkey', 'fish', 'bird']\n"
          ]
        }
      ]
    },
    {
      "cell_type": "code",
      "source": [
        "# Removing all elements from the list\n",
        "animals = [\"monkey\", \"dog\", \"fish\", \"bird\"]\n",
        "animals.clear()\n",
        "print(animals)"
      ],
      "metadata": {
        "colab": {
          "base_uri": "https://localhost:8080/"
        },
        "id": "nb-48QCs5vuy",
        "outputId": "fc4b407c-58fb-4f7f-9e93-2207a3bb9a6a"
      },
      "execution_count": null,
      "outputs": [
        {
          "output_type": "stream",
          "name": "stdout",
          "text": [
            "[]\n"
          ]
        }
      ]
    },
    {
      "cell_type": "code",
      "source": [
        "# Returning a copy of the list\n",
        "animals = [\"monkey\", \"dog\", \"fish\", \"bird\"]\n",
        "x = animals.copy()\n",
        "print(x)"
      ],
      "metadata": {
        "colab": {
          "base_uri": "https://localhost:8080/"
        },
        "id": "ARQUkFXM54bZ",
        "outputId": "0708c64e-3798-41b6-ae48-a626c8e6f3a2"
      },
      "execution_count": null,
      "outputs": [
        {
          "output_type": "stream",
          "name": "stdout",
          "text": [
            "['monkey', 'dog', 'fish', 'bird']\n"
          ]
        }
      ]
    },
    {
      "cell_type": "code",
      "source": [
        "# Returning the number of elements with a specified value\n",
        "animals = [\"monkey\", \"dog\", \"fish\", \"bird\"]\n",
        "x = animals.count(\"monkey\")\n",
        "print(x)"
      ],
      "metadata": {
        "colab": {
          "base_uri": "https://localhost:8080/"
        },
        "id": "_UYU6B2x58gS",
        "outputId": "d477ae32-6a2d-4f8a-ac77-38104561170c"
      },
      "execution_count": null,
      "outputs": [
        {
          "output_type": "stream",
          "name": "stdout",
          "text": [
            "1\n"
          ]
        }
      ]
    },
    {
      "cell_type": "code",
      "source": [
        "# Add elements of a list to the end of the current list\n",
        "animals = [\"monkey\", \"dog\", \"fish\", \"bird\"]\n",
        "cars = [\"toyota\", \"bmw\", \"ford\"]\n",
        "animals.extend(cars)\n",
        "print(animals)"
      ],
      "metadata": {
        "colab": {
          "base_uri": "https://localhost:8080/"
        },
        "id": "Hkjd4fzP6GKe",
        "outputId": "c7c719bb-60ea-4c71-c197-a8126ac0c8d1"
      },
      "execution_count": null,
      "outputs": [
        {
          "output_type": "stream",
          "name": "stdout",
          "text": [
            "['monkey', 'dog', 'fish', 'bird', 'toyota', 'bmw', 'ford']\n"
          ]
        }
      ]
    },
    {
      "cell_type": "code",
      "source": [
        "# Returning the index of an element in the list\n",
        "animals = [\"monkey\", \"dog\", \"fish\", \"bird\"]\n",
        "x = animals.index(\"fish\")\n",
        "print(x)"
      ],
      "metadata": {
        "colab": {
          "base_uri": "https://localhost:8080/"
        },
        "id": "3jGgHoWH6PYY",
        "outputId": "6295cd7c-54d1-4495-e51f-cf642167bfed"
      },
      "execution_count": null,
      "outputs": [
        {
          "output_type": "stream",
          "name": "stdout",
          "text": [
            "2\n"
          ]
        }
      ]
    },
    {
      "cell_type": "code",
      "source": [
        "# Sorting the order of the list alphabetically\n",
        "animals = [\"monkey\", \"dog\", \"fish\", \"bird\"]\n",
        "animals.sort()\n",
        "print(animals)"
      ],
      "metadata": {
        "colab": {
          "base_uri": "https://localhost:8080/"
        },
        "id": "MkJVP3bF6Vdy",
        "outputId": "1cc1394f-058d-4855-8069-c1df7517db8f"
      },
      "execution_count": null,
      "outputs": [
        {
          "output_type": "stream",
          "name": "stdout",
          "text": [
            "['bird', 'dog', 'fish', 'monkey']\n"
          ]
        }
      ]
    }
  ]
}