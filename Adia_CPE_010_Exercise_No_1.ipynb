{
  "nbformat": 4,
  "nbformat_minor": 0,
  "metadata": {
    "colab": {
      "provenance": [],
      "toc_visible": true,
      "authorship_tag": "ABX9TyPn3S4qhXRKafCm6u8xBIVI",
      "include_colab_link": true
    },
    "kernelspec": {
      "name": "python3",
      "display_name": "Python 3"
    },
    "language_info": {
      "name": "python"
    }
  },
  "cells": [
    {
      "cell_type": "markdown",
      "metadata": {
        "id": "view-in-github",
        "colab_type": "text"
      },
      "source": [
        "<a href=\"https://colab.research.google.com/github/jreadia/DSA-CPE-010-CPE21S4/blob/main/Adia_CPE_010_Exercise_No_1.ipynb\" target=\"_parent\"><img src=\"https://colab.research.google.com/assets/colab-badge.svg\" alt=\"Open In Colab\"/></a>"
      ]
    },
    {
      "cell_type": "markdown",
      "source": [
        "# Exercise 1 (Class Constructor and Method)"
      ],
      "metadata": {
        "id": "pBVwBnA4ndEg"
      }
    },
    {
      "cell_type": "code",
      "execution_count": 16,
      "metadata": {
        "colab": {
          "base_uri": "https://localhost:8080/"
        },
        "id": "Z9d0HQfumq4x",
        "outputId": "22f3cb17-548c-47d2-c923-1420629c1a27"
      },
      "outputs": [
        {
          "output_type": "stream",
          "name": "stdout",
          "text": [
            "Enter the length of the rectangle: 2\n",
            "Enter the width of the rectangle: 3\n",
            "The area of the rectangle is: 6.0\n"
          ]
        }
      ],
      "source": [
        "# ----- AREA OF A RECTANGLE ----- #\n",
        "\n",
        "# Use Rectangle() as a class name\n",
        "# Use attributes length and width\n",
        "# Calculate the Area() of the rectangle\n",
        "# Display the computed area of a rectangle\n",
        "\n",
        "# Creating a class\n",
        "class Rectangle:\n",
        "  def __init__ (area, length, width):\n",
        "    area.length = length\n",
        "    area.width = width\n",
        "\n",
        "  def Area(area):\n",
        "    return area.length * area.width\n",
        "\n",
        "# Example usage with user input\n",
        "length = float(input(\"Enter the length of the rectangle: \"))\n",
        "width = float(input(\"Enter the width of the rectangle: \"))\n",
        "\n",
        "# Using the Rectangle class\n",
        "rectangle = Rectangle(length, width)\n",
        "area = rectangle.Area()\n",
        "\n",
        "# Display output\n",
        "print(\"The area of the rectangle is:\", area)"
      ]
    }
  ]
}