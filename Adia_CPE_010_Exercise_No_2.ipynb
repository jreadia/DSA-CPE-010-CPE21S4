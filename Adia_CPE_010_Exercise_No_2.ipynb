{
  "nbformat": 4,
  "nbformat_minor": 0,
  "metadata": {
    "colab": {
      "provenance": [],
      "authorship_tag": "ABX9TyMnleXyHOaowgS8PVkeMRLc",
      "include_colab_link": true
    },
    "kernelspec": {
      "name": "python3",
      "display_name": "Python 3"
    },
    "language_info": {
      "name": "python"
    }
  },
  "cells": [
    {
      "cell_type": "markdown",
      "metadata": {
        "id": "view-in-github",
        "colab_type": "text"
      },
      "source": [
        "<a href=\"https://colab.research.google.com/github/jreadia/DSA-CPE-010-CPE21S4/blob/main/Adia_CPE_010_Exercise_No_2.ipynb\" target=\"_parent\"><img src=\"https://colab.research.google.com/assets/colab-badge.svg\" alt=\"Open In Colab\"/></a>"
      ]
    },
    {
      "cell_type": "code",
      "execution_count": 2,
      "metadata": {
        "colab": {
          "base_uri": "https://localhost:8080/"
        },
        "id": "YMdLBrQpuWEt",
        "outputId": "170a06d8-6eab-406f-ec6a-74cc40a38242"
      },
      "outputs": [
        {
          "output_type": "stream",
          "name": "stdout",
          "text": [
            "Enter the color of the rectangle: Black\n",
            "The rectangle is Black with an area of 20 \n",
            "\n",
            "Enter the color of the square: Yellow\n",
            "The square is Yellow with an area of 25 \n",
            "\n",
            "Enter the color of the triangle: Green\n",
            "The triangle is Green with an area of 10.0\n"
          ]
        }
      ],
      "source": [
        "# ----- CLASS OF SHAPES ----- #\n",
        "\n",
        "# Setting a superclass called Shapes() with colors available for each subclass for testing purposes that this functions as a superclass\n",
        "class Shapes():\n",
        "  def __init__(self, color):\n",
        "    self.color = color\n",
        "\n",
        "  def output_color(self):\n",
        "    return self.color\n",
        "\n",
        "# Subclass 1: for rectangle\n",
        "class Rectangle(Shapes):\n",
        "  def __init__(self, color, length, width):\n",
        "    super().__init__(color)\n",
        "    self.length = length\n",
        "    self.width = width\n",
        "\n",
        "  def area(self):\n",
        "    return self.length * self.width\n",
        "\n",
        "# Subclass 2: for square\n",
        "class Square(Shapes):\n",
        "  def __init__(self, color, sides):\n",
        "    super().__init__(color)\n",
        "    self.sides = sides\n",
        "\n",
        "  def area(self):\n",
        "    return self.sides ** 2\n",
        "\n",
        "# Subclass 3: for triangle\n",
        "class Triangle(Shapes):\n",
        "  def __init__(self, color, length, width):\n",
        "    super().__init__(color)\n",
        "    self.length = length\n",
        "    self.width = width\n",
        "\n",
        "  def area(self):\n",
        "    return (self.length * self.width) * 0.5\n",
        "\n",
        "# Defining objects to be used Rectangle and Output\n",
        "rect_color = Shapes(input(\"Enter the color of the rectangle: \"))\n",
        "rectangle = Rectangle(rect_color, 4, 5)\n",
        "\n",
        "print(\"The rectangle is\", rect_color.output_color(), \"with an area of\", rectangle.area(), \"\\n\")\n",
        "\n",
        "# Defining objects to be used Square and Output\n",
        "sqr_color = Shapes(input(\"Enter the color of the square: \"))\n",
        "square = Square(sqr_color, 5)\n",
        "\n",
        "print(\"The square is\", sqr_color.output_color(), \"with an area of\", square.area(), \"\\n\")\n",
        "\n",
        "# Defining objects to be used Triangle and Output\n",
        "tri_color = Shapes(input(\"Enter the color of the triangle: \"))\n",
        "triangle = Triangle(tri_color, 4, 5)\n",
        "\n",
        "print(\"The triangle is\", tri_color.output_color(), \"with an area of\", triangle.area())\n",
        "\n",
        "\n",
        "\n",
        "\n",
        "\n"
      ]
    }
  ]
}